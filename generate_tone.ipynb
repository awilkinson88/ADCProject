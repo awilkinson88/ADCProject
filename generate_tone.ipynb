{
 "cells": [
  {
   "cell_type": "code",
   "execution_count": 227,
   "metadata": {
    "collapsed": false
   },
   "outputs": [],
   "source": [
    "from __future__ import print_function, division\n",
    "from scipy.io import wavfile\n",
    "import numpy as np\n",
    "import matplotlib.pyplot as mplib\n",
    "import math\n",
    "import thinkdsp\n",
    "import thinkplot\n",
    "from array import array\n",
    "from itertools import chain, repeat\n",
    "import copy\n",
    "\n",
    "%matplotlib inline"
   ]
  },
  {
   "cell_type": "code",
   "execution_count": 228,
   "metadata": {
    "collapsed": false
   },
   "outputs": [],
   "source": [
    "sig1 = thinkdsp.SinSignal(freq=500, amp = 1.5, offset = 0)\n",
    "wav1 = sig1.make_wave(duration = 1,framerate=11025)\n",
    "\n",
    "sig2 = thinkdsp.SinSignal(freq=1500, amp = 1.5, offset = 0)\n",
    "wav2 = sig2.make_wave(duration = 1,framerate=11025)\n"
   ]
  },
  {
   "cell_type": "code",
   "execution_count": 229,
   "metadata": {
    "collapsed": false
   },
   "outputs": [],
   "source": [
    "def generate_tonal_sig(bits,symbol_len):\n",
    "    transmit = thinkdsp.SinSignal(freq = 500, amp = 1.5,offset=0)\n",
    "    audio = transmit.make_wave(duration = symbol_len)\n",
    "    for bit in bits:\n",
    "        if bit == 0:\n",
    "            sig = thinkdsp.SinSignal(freq=500, amp = 1.5, offset = 0)\n",
    "        if bit == 1:\n",
    "            sig = thinkdsp.SinSignal(freq=1500, amp = 1.5, offset = 0)\n",
    "        new_wav = sig.make_wave(duration = symbol_len)\n",
    "        audio = audio | new_wav\n",
    "    return audio\n",
    "\n",
    "trans = generate_tonal_sig([0,1,0,0,0,1],.5)\n",
    "trans.make_audio()\n",
    "wfile = thinkdsp.WavFileWriter('receivedfile.wav')\n",
    "wfile.write(trans)\n",
    "wfile.close()"
   ]
  },
  {
   "cell_type": "code",
   "execution_count": 230,
   "metadata": {
    "collapsed": false
   },
   "outputs": [
    {
     "name": "stdout",
     "output_type": "stream",
     "text": [
      "499.86398259\n",
      "499.86398259\n",
      "509.861262242\n",
      "499.86398259\n",
      "499.86398259\n",
      "499.86398259\n",
      "491.866158868\n"
     ]
    },
    {
     "data": {
      "image/png": "[encoded data removed]",
      "text/plain": [
       "<matplotlib.figure.Figure at 0x109ee6a10>"
      ]
     },
     "metadata": {},
     "output_type": "display_data"
    }
   ],
   "source": [
    "zeroHighCutoff = 510\n",
    "\n",
    "zeroLowCuttoff = 490\n",
    "\n",
    "wave = thinkdsp.read_wave('receivedfile.wav')\n",
    "\n",
    "spectrum = wave.make_spectrum()\n",
    "\n",
    "wave.make_audio()\n",
    "\n",
    "windowSize = 0.5\n",
    "\n",
    "results = []\n",
    "\n",
    "for i in range(0, int(round(wave.duration / windowSize))):\n",
    "    segment = wave.segment(i * windowSize, windowSize)\n",
    "    segmentSpectrum = segment.make_spectrum()\n",
    "    segmentSpectrum.low_pass(510)\n",
    "    segmentSpectrum.high_pass(490)\n",
    "    firstMaxFrequencyValue = segmentSpectrum.fs[np.argmax(segmentSpectrum.amps)]\n",
    "    amplitude = max(segmentSpectrum.amps) / 2000\n",
    "    \n",
    "    print(firstMaxFrequencyValue)\n",
    "    if amplitude > 1:\n",
    "        results.append(0)\n",
    "    else:\n",
    "        results.append(1)\n",
    "\n",
    "spectrum.plot()\n"
   ]
  },
  {
   "cell_type": "code",
   "execution_count": 231,
   "metadata": {
    "collapsed": false,
    "scrolled": true
   },
   "outputs": [
    {
     "name": "stdout",
     "output_type": "stream",
     "text": [
      "b3:a5:51:a7:57:12:9d:34:47:18\n"
     ]
    },
    {
     "data": {
      "image/png": "[encoded data removed]",
      "text/plain": [
       "<matplotlib.figure.Figure at 0x109efc890>"
      ]
     },
     "metadata": {},
     "output_type": "display_data"
    }
   ],
   "source": [
    "np.random.seed(1000)\n",
    "\n",
    "bytes = np.random.bytes(10)\n",
    "\n",
    "\n",
    "stri = \":\".join(\"{:02x}\".format(ord(c)) for c in bytes)\n",
    "\n",
    "print(stri)\n",
    "segment2 = wave.segment(0, wave.duration)\n",
    "x = segment2.ys\n",
    "y = [ 0 for i in xrange(len(segment2.ys))]\n",
    "q = .99\n",
    "wo = (500 * np.pi * 2) / segment2.framerate\n",
    "\n",
    "y[0] = x[0] + 2 * q - 2\n",
    "\n",
    "y[1] = x[1] + 2 * q * np.cos(wo) * y[0] - 2 * np.cos(wo) * x[0]\n",
    "\n",
    "for i in range(2, len(segment2.ys)):\n",
    "    y[i] = x[i] + 2*q*np.cos(wo) * y[i-1] - q*q*y[i - 2] - 2 * np.cos(wo) * x[i-1] + x[i - 2]\n",
    "    \n",
    "newwave = thinkdsp.Wave(y, segment2.framerate)\n",
    "segment2.plot()\n"
   ]
  },
  {
   "cell_type": "code",
   "execution_count": 232,
   "metadata": {
    "collapsed": false,
    "scrolled": false
   },
   "outputs": [
    {
     "data": {
      "image/png": "[encoded data removed]",
      "text/plain": [
       "<matplotlib.figure.Figure at 0x109f13290>"
      ]
     },
     "metadata": {},
     "output_type": "display_data"
    }
   ],
   "source": [
    "newwave.plot()"
   ]
  },
  {
   "cell_type": "code",
   "execution_count": 233,
   "metadata": {
    "collapsed": false
   },
   "outputs": [
    {
     "data": {
      "image/png": "[encoded data removed]",
      "text/plain": [
       "<matplotlib.figure.Figure at 0x11eddbc50>"
      ]
     },
     "metadata": {},
     "output_type": "display_data"
    }
   ],
   "source": [
    "newspec = newwave.make_spectrum()\n",
    "newspec.plot()"
   ]
  },
  {
   "cell_type": "code",
   "execution_count": null,
   "metadata": {
    "collapsed": false
   },
   "outputs": [],
   "source": []
  }
 ],
 "metadata": {
  "kernelspec": {
   "display_name": "Python 2",
   "language": "python",
   "name": "python2"
  },
  "language_info": {
   "codemirror_mode": {
    "name": "ipython",
    "version": 2
   },
   "file_extension": ".py",
   "mimetype": "text/x-python",
   "name": "python",
   "nbconvert_exporter": "python",
   "pygments_lexer": "ipython2",
   "version": "2.7.10"
  }
 },
 "nbformat": 4,
 "nbformat_minor": 0
}
