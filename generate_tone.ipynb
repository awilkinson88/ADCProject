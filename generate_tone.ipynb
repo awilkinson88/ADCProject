{
 "cells": [
  {
   "cell_type": "code",
   "execution_count": 52,
   "metadata": {
    "collapsed": false
   },
   "outputs": [],
   "source": [
    "from __future__ import print_function, division\n",
    "from scipy.io import wavfile\n",
    "import numpy as np\n",
    "import matplotlib.pyplot as mplib\n",
    "import math\n",
    "import thinkdsp\n",
    "import thinkplot\n",
    "from array import array\n",
    "from itertools import chain, repeat\n",
    "import copy\n",
    "import pyaudio\n",
    "import wave\n",
    "\n",
    "\n",
    "%matplotlib inline"
   ]
  },
  {
   "cell_type": "code",
   "execution_count": 53,
   "metadata": {
    "collapsed": false
   },
   "outputs": [],
   "source": [
    "sig1 = thinkdsp.SinSignal(freq=500, amp = 1.5, offset = 0)\n",
    "wav1 = sig1.make_wave(duration = 1,framerate=11025)\n",
    "\n",
    "sig2 = thinkdsp.SinSignal(freq=1500, amp = 1.5, offset = 0)\n",
    "wav2 = sig2.make_wave(duration = 1,framerate=11025)\n"
   ]
  },
  {
   "cell_type": "code",
   "execution_count": 54,
   "metadata": {
    "collapsed": false
   },
   "outputs": [
    {
     "name": "stdout",
     "output_type": "stream",
     "text": [
      "bitarray('1011001110100101010100011010011101010111000100101001110100110100')\n"
     ]
    }
   ],
   "source": [
    "def generate_tonal_sig(bits,symbol_len):\n",
    "    transmit = thinkdsp.SinSignal(freq = 5000, amp = 1.5,offset=0)\n",
    "    audio = transmit.make_wave(duration = symbol_len)\n",
    "    for bit in bits:\n",
    "        if bit == 0:\n",
    "            sig = thinkdsp.SinSignal(freq=2300, amp = 1.5, offset = 0)\n",
    "        if bit == 1:\n",
    "            sig = thinkdsp.SinSignal(freq=3400, amp = 1.5, offset = 0)\n",
    "        new_wav = sig.make_wave(duration = symbol_len)\n",
    "        audio = audio | new_wav\n",
    "    return audio\n",
    "import bitarray\n",
    "np.random.seed(1000)\n",
    "bytes = np.random.bytes(8)\n",
    "b = bitarray.bitarray()\n",
    "b.frombytes(bytes)\n",
    "print(b)\n",
    "trans = generate_tonal_sig(b,.05)\n",
    "trans.make_audio()\n",
    "wfile = thinkdsp.WavFileWriter('longrandomseed1000.wav')\n",
    "wfile.write(trans)\n",
    "wfile.close()"
   ]
  },
  {
   "cell_type": "code",
   "execution_count": 55,
   "metadata": {
    "collapsed": false
   },
   "outputs": [
    {
     "name": "stdout",
     "output_type": "stream",
     "text": [
      "499.86398259\n",
      "499.86398259\n",
      "509.861262242\n",
      "499.86398259\n",
      "499.86398259\n",
      "499.86398259\n",
      "491.866158868\n"
     ]
    },
    {
     "data": {
      "image/png": "[encoded data removed]",
      "text/plain": [
       "<matplotlib.figure.Figure at 0x10a58c490>"
      ]
     },
     "metadata": {},
     "output_type": "display_data"
    }
   ],
   "source": [
    "zeroHighCutoff = 510\n",
    "\n",
    "zeroLowCuttoff = 490\n",
    "\n",
    "wave = thinkdsp.read_wave('receivedfile.wav')\n",
    "\n",
    "spectrum = wave.make_spectrum()\n",
    "\n",
    "wave.make_audio()\n",
    "\n",
    "windowSize = 0.5\n",
    "\n",
    "results = []\n",
    "\n",
    "for i in range(0, int(round(wave.duration / windowSize))):\n",
    "    segment = wave.segment(i * windowSize, windowSize)\n",
    "    segmentSpectrum = segment.make_spectrum()\n",
    "    segmentSpectrum.low_pass(510)\n",
    "    segmentSpectrum.high_pass(490)\n",
    "    firstMaxFrequencyValue = segmentSpectrum.fs[np.argmax(segmentSpectrum.amps)]\n",
    "    amplitude = max(segmentSpectrum.amps) / 2000\n",
    "    \n",
    "    print(firstMaxFrequencyValue)\n",
    "    if amplitude > 1:\n",
    "        results.append(0)\n",
    "    else:\n",
    "        results.append(1)\n",
    "\n",
    "spectrum.plot()\n"
   ]
  },
  {
   "cell_type": "code",
   "execution_count": 56,
   "metadata": {
    "collapsed": false,
    "scrolled": true
   },
   "outputs": [
    {
     "name": "stdout",
     "output_type": "stream",
     "text": [
      "bitarray('1011001110100101010100011010011101010111000100101001110100110100')\n"
     ]
    }
   ],
   "source": [
    "np.random.seed(1000)\n",
    "\n",
    "import bitarray\n",
    "bytes = np.random.bytes(8)\n",
    "b = bitarray.bitarray()\n",
    "b.frombytes(bytes)\n",
    "\n",
    "print(b)\n",
    "\n",
    "stri = \":\".join(\"{:02x}\".format(ord(c)) for c in bytes)\n",
    "#print(stri)\n",
    "\n",
    "def detect_one_or_zero(segment, qfactor=.99, lowfreq=500, highfreq=1500):\n",
    "    if len(segment.ys) < 3:\n",
    "        print(\"too short\")\n",
    "        return\n",
    "    segment2 = segment\n",
    "    x = segment2.ys\n",
    "    y = [ 0 for i in xrange(len(segment2.ys))]\n",
    "    q = qfactor\n",
    "    wo = (lowfreq * np.pi * 2) / segment2.framerate\n",
    "\n",
    "    y[0] = x[0] + 2 * q - 2\n",
    "\n",
    "    y[1] = x[1] + 2 * q * np.cos(wo) * y[0] - 2 * np.cos(wo) * x[0]\n",
    "\n",
    "    for i in range(2, len(segment2.ys)):\n",
    "        y[i] = x[i] + 2*q*np.cos(wo) * y[i-1] - q*q*y[i - 2] - 2 * np.cos(wo) * x[i-1] + x[i - 2]\n",
    "    lowwave = thinkdsp.Wave(y, segment2.framerate)\n",
    "    \n",
    "    wo = (highfreq * np.pi * 2) / segment2.framerate\n",
    "    \n",
    "    y = [ 0 for i in xrange(len(segment2.ys))]\n",
    "    \n",
    "    y[0] = x[0] + 2 * q - 2\n",
    "\n",
    "    y[1] = x[1] + 2 * q * np.cos(wo) * y[0] - 2 * np.cos(wo) * x[0]\n",
    "\n",
    "    for i in range(2, len(segment2.ys)):\n",
    "        y[i] = x[i] + 2*q*np.cos(wo) * y[i-1] - q*q*y[i - 2] - 2 * np.cos(wo) * x[i-1] + x[i - 2]\n",
    "    highwave = thinkdsp.Wave(y, segment2.framerate)\n",
    "    \n",
    "    lowAverage = np.average(np.absolute(lowwave.ys))\n",
    "    highAverage = np.average(np.absolute(highwave.ys))\n",
    "    if lowAverage > highAverage and lowAverage > 1000: #tweak constant\n",
    "        return \"1\"\n",
    "    elif highAverage > lowAverage and highAverage > 1000: #tweak me\n",
    "        return \"0\"\n",
    "def find_start_and_end(xf, threshold = 2000): \n",
    "    import numpy as np    \n",
    "    start_idx = -1\n",
    " \n",
    "    for k in range(0, len(xf)):\n",
    "        if(np.abs(xf[k])) > threshold:\n",
    "            start_idx = k\n",
    "            break\n",
    "\n",
    "    if(start_idx  < 0):\n",
    "        print(\"Unable to detect start of transmission\")\n",
    "        return -1\n",
    "    \n",
    "    end_idx = -1\n",
    "    \n",
    "    for k in range(0, len(xf)):\n",
    "        if(np.abs(xf[len(xf)-k-1])) > threshold:\n",
    "            end_idx = len(xf)-k-1\n",
    "            break\n",
    "\n",
    "    if(end_idx < 0):\n",
    "        print(\"Unable to detect end of transmission\")\n",
    "        return -1\n",
    "\n",
    "    return start_idx, end_idx\n",
    "\n",
    "def process_wav(filename, symbolLength=.5):\n",
    "    wave = thinkdsp.read_wave(filename)\n",
    "    (start, end) = find_start_and_end(wave.ys)\n",
    "    subwave = thinkdsp.Wave(wave.ys[start:end], wave.framerate)\n",
    "    for i in range(0, int(round(wave.duration / windowSize))):\n",
    "        print(detect_one_or_zero(wave.segment(i * windowSize, windowSize)))"
   ]
  },
  {
   "cell_type": "code",
   "execution_count": 57,
   "metadata": {
    "collapsed": false,
    "scrolled": false
   },
   "outputs": [
    {
     "name": "stdout",
     "output_type": "stream",
     "text": [
      "0\n",
      "0\n",
      "1\n",
      "0\n",
      "0\n",
      "0\n",
      "1\n"
     ]
    }
   ],
   "source": [
    "process_wav('receivedfile.wav')"
   ]
  },
  {
   "cell_type": "code",
   "execution_count": null,
   "metadata": {
    "collapsed": false
   },
   "outputs": [],
   "source": []
  },
  {
   "cell_type": "code",
   "execution_count": null,
   "metadata": {
    "collapsed": false
   },
   "outputs": [],
   "source": []
  },
  {
   "cell_type": "code",
   "execution_count": null,
   "metadata": {
    "collapsed": true
   },
   "outputs": [],
   "source": []
  }
 ],
 "metadata": {
  "kernelspec": {
   "display_name": "Python 2",
   "language": "python",
   "name": "python2"
  },
  "language_info": {
   "codemirror_mode": {
    "name": "ipython",
    "version": 2
   },
   "file_extension": ".py",
   "mimetype": "text/x-python",
   "name": "python",
   "nbconvert_exporter": "python",
   "pygments_lexer": "ipython2",
   "version": "2.7.10"
  }
 },
 "nbformat": 4,
 "nbformat_minor": 0
}
