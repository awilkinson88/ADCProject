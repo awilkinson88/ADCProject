{
 "metadata": {
  "name": "",
  "signature": "sha256:eb63c8e133bcecc77b54a8029a700562dfd8a36aa6b9a28b90b9a6a3755b6fcf"
 },
 "nbformat": 3,
 "nbformat_minor": 0,
 "worksheets": [
  {
   "cells": [
    {
     "cell_type": "code",
     "collapsed": false,
     "input": [
      "from __future__ import print_function, division\n",
      "from scipy.io import wavfile\n",
      "import numpy as np\n",
      "import matplotlib.pyplot as mplib\n",
      "import math\n",
      "import thinkdsp\n",
      "import thinkplot\n",
      "from array import array\n",
      "from itertools import chain, repeat\n",
      "import copy\n",
      "\n",
      "%matplotlib inline"
     ],
     "language": "python",
     "metadata": {},
     "outputs": [],
     "prompt_number": 5
    },
    {
     "cell_type": "code",
     "collapsed": false,
     "input": [
      "sig1 = thinkdsp.SinSignal(freq=500, amp = 1.5, offset = 0)\n",
      "wav1 = sig1.make_wave(duration = 1,framerate=11025)\n",
      "\n",
      "sig2 = thinkdsp.SinSignal(freq=1500, amp = 1.5, offset = 0)\n",
      "wav2 = sig2.make_wave(duration = 1,framerate=11025)\n"
     ],
     "language": "python",
     "metadata": {},
     "outputs": [],
     "prompt_number": 6
    },
    {
     "cell_type": "code",
     "collapsed": false,
     "input": [
      "def generate_tonal_sig(bits,symbol_len):\n",
      "    transmit = thinkdsp.SinSignal(freq = 500, amp = 1.5,offset=0)\n",
      "    audio = transmit.make_wave(duration = symbol_len)\n",
      "    for bit in bits:\n",
      "        if bit == 0:\n",
      "            sig = thinkdsp.SinSignal(freq=500, amp = 1.5, offset = 0)\n",
      "        if bit == 1:\n",
      "            sig = thinkdsp.SinSignal(freq=1500, amp = 1.5, offset = 0)\n",
      "        new_wav = sig.make_wave(duration = symbol_len)\n",
      "        audio = audio | new_wav\n",
      "    return audio\n",
      "\n",
      "trans = generate_tonal_sig([0,1,0,0,0,1],.5)\n",
      "trans.make_audio()\n",
      "wfile = thinkdsp.WavFileWriter('receivedfile.wav')\n",
      "wfile.write(trans)\n",
      "wfile.close()"
     ],
     "language": "python",
     "metadata": {},
     "outputs": [],
     "prompt_number": 9
    },
    {
     "cell_type": "code",
     "collapsed": false,
     "input": [
      "zeroHighCutoff = 510\n",
      "\n",
      "zeroLowCuttoff = 490\n",
      "\n",
      "wave = thinkdsp.read_wave('receivedfile.wav')\n",
      "\n",
      "wave.normalize()\n",
      "\n",
      "wave.make_audio()\n",
      "\n",
      "windowSize = 0.5\n",
      "\n",
      "results = []\n",
      "\n",
      "for i in range(0, int(round(wave.duration / windowSize))):\n",
      "    segment = wave.segment(i * windowSize, windowSize)\n",
      "    segmentSpectrum = segment.make_spectrum()\n",
      "    segmentSpectrum.low_pass(510)\n",
      "    segmentSpectrum.high_pass(490)\n",
      "    firstMaxFrequencyValue = segmentSpectrum.fs[np.argmax(segmentSpectrum.amps)]\n",
      "    amplitude = max(segmentSpectrum.amps) / 2000\n",
      "    \n",
      "    print(firstMaxFrequencyValue)\n",
      "    if amplitude > 1:\n",
      "        results.append(0)\n",
      "    else:\n",
      "        results.append(1)\n",
      "\n",
      "print(results)\n"
     ],
     "language": "python",
     "metadata": {},
     "outputs": [
      {
       "output_type": "stream",
       "stream": "stdout",
       "text": [
        "499.86398259\n",
        "499.86398259\n",
        "509.861262242\n",
        "499.86398259"
       ]
      },
      {
       "output_type": "stream",
       "stream": "stdout",
       "text": [
        "\n",
        "499.86398259\n",
        "499.86398259\n",
        "491.866158868"
       ]
      },
      {
       "output_type": "stream",
       "stream": "stdout",
       "text": [
        "\n",
        "[0, 0, 1, 0, 0, 0, 1]\n"
       ]
      }
     ],
     "prompt_number": 8
    },
    {
     "cell_type": "code",
     "collapsed": false,
     "input": [],
     "language": "python",
     "metadata": {},
     "outputs": [],
     "prompt_number": 4
    },
    {
     "cell_type": "code",
     "collapsed": false,
     "input": [],
     "language": "python",
     "metadata": {},
     "outputs": [],
     "prompt_number": 4
    },
    {
     "cell_type": "code",
     "collapsed": false,
     "input": [],
     "language": "python",
     "metadata": {},
     "outputs": [],
     "prompt_number": 4
    },
    {
     "cell_type": "code",
     "collapsed": false,
     "input": [],
     "language": "python",
     "metadata": {},
     "outputs": [],
     "prompt_number": 4
    }
   ],
   "metadata": {}
  }
 ]
}