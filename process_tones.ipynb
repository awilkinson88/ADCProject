{
 "cells": [
  {
   "cell_type": "code",
   "execution_count": 133,
   "metadata": {
    "collapsed": false
   },
   "outputs": [],
   "source": [
    "import thinkdsp\n",
    "import numpy as np\n",
    "import thinkplot\n",
    "import scipy.signal\n",
    "import bitarray\n",
    "\n",
    "%matplotlib inline\n",
    "\n",
    "def reverse_notch_filter(segment2, qfactor=.99, freq=3400):\n",
    "    x = segment2.ys\n",
    "    y = [ 0 for i in xrange(len(segment2.ys))]\n",
    "    q = .75\n",
    "    p = .99\n",
    "    wo = (freq * np.pi * 2) / segment2.framerate\n",
    "\n",
    "    y[0] = x[0] + 2 * q - 2 * p\n",
    "\n",
    "    y[1] = x[1] + 2 * p * np.cos(wo) * y[0] - 2 * q * np.cos(wo) * x[0]\n",
    "\n",
    "    for i in range(2, len(segment2.ys)):\n",
    "        y[i] = x[i] + 2* p * np.cos(wo) * y[i-1] - p * p * y[i - 2] - 2 * q * np.cos(wo) * x[i-1] + q*q*x[i - 2]\n",
    "        #print(y[i])\n",
    "    return thinkdsp.Wave(y, segment2.framerate)\n",
    "\n",
    "\n",
    "\n",
    "# def reverse_notch_filter(segment, q=.9, freq=3400):\n",
    "#     w = (freq * np.pi * 2) / segment.framerate\n",
    "#     A = [1, -2.0*q*np.cos(w), 1]\n",
    "#     B = [1, -2.0*q*np.cos(w), 1]\n",
    "#     filt = scipy.signal.lfilter(B,A,segment.ys)\n",
    "#     return filt\n",
    "    \n",
    "\n",
    "def detect_one_or_zero(segment, qfactor=.99, lowfreq=1000, highfreq=2000, sL=.5, sensitivity=100):\n",
    "    if len(segment.ys) < 3:\n",
    "        print(\"too short\")\n",
    "        return\n",
    "    \n",
    "    segment = segment.segment(sL/4, sL/2) #take the middle of each chunk for accuarcy\n",
    "    \n",
    "    lowwave = reverse_notch_filter(segment, qfactor, lowfreq)\n",
    "\n",
    "    highwave = reverse_notch_filter(segment, qfactor, highfreq)\n",
    "    \n",
    "    lowAverage = np.average(np.absolute(lowwave.ys))\n",
    "    highAverage = np.average(np.absolute(highwave.ys))\n",
    "    \n",
    "    if lowAverage > highAverage and lowAverage > sensitivity: #If there's more low freq content than high, and it's over a threshold.\n",
    "        return False\n",
    "    elif highAverage > lowAverage and highAverage > sensitivity: #Same, swap low and high.\n",
    "        return True\n",
    "\n",
    "def find_first_third_freq(wave, keyFreq = 3000, threshold=1000):\n",
    "    \n",
    "    filteredWave = reverse_notch_filter(wave, freq=keyFreq)\n",
    "    \n",
    "    val = 0\n",
    "    \n",
    "    for i in filteredWave.ys:\n",
    "        if i > threshold:\n",
    "            val = i\n",
    "        elif val > 0: #keep going until not over threshold\n",
    "            break\n",
    "    itemindex = np.where(filteredWave.ys==val)\n",
    "    \n",
    "    return thinkdsp.Wave(filteredWave.ys[itemindex[0]:], filteredWave.framerate)\n",
    "\n",
    "def process_wav(wave, symbolLength=.5):\n",
    "    subwave = find_first_third_freq(wave)\n",
    "    \n",
    "    b = bitarray.bitarray()\n",
    "    \n",
    "    for i in range(1, int(round(subwave.duration / symbolLength))): #start from 1 to skip the key.\n",
    "        b.append(detect_one_or_zero(subwave.segment(i * symbolLength, symbolLength), sL=symbolLength)) #for each subsection of symbol length, find the symbol of that chunk.\n",
    "    return b"
   ]
  },
  {
   "cell_type": "code",
   "execution_count": 134,
   "metadata": {
    "collapsed": false
   },
   "outputs": [],
   "source": []
  },
  {
   "cell_type": "code",
   "execution_count": 135,
   "metadata": {
    "collapsed": false,
    "scrolled": false
   },
   "outputs": [
    {
     "name": "stdout",
     "output_type": "stream",
     "text": [
      "(array([30600]),)\n",
      "bitarray('1011001110100101010100011010011101010111000100101001110100110100000')\n",
      "bitarray('1011001110100101010100011010011101010111000100101001110100110100000')\n",
      "yay\n"
     ]
    },
    {
     "name": "stderr",
     "output_type": "stream",
     "text": [
      "/Users/lego6245/anaconda/lib/python2.7/site-packages/ipykernel/__main__.py:68: DeprecationWarning: converting an array with ndim > 0 to an index will result in an error in the future\n"
     ]
    }
   ],
   "source": [
    "test = thinkdsp.read_wave(\"cellphonetest2.wav\")\n",
    "b = process_wav(test, symbolLength=.1)\n",
    "\n",
    "np.random.seed(1000)\n",
    "bytes = np.random.bytes(8)\n",
    "c = bitarray.bitarray()\n",
    "c.frombytes(bytes)\n",
    "c.append(False)\n",
    "c.append(False)\n",
    "c.append(False)\n",
    "print(b)\n",
    "print(c)\n",
    "if b == c:\n",
    "    print(\"yay\")"
   ]
  },
  {
   "cell_type": "code",
   "execution_count": 136,
   "metadata": {
    "collapsed": false
   },
   "outputs": [],
   "source": [
    "test = thinkdsp.read_wave(\"longrandomseed1000.wav\")"
   ]
  },
  {
   "cell_type": "code",
   "execution_count": 137,
   "metadata": {
    "collapsed": false
   },
   "outputs": [
    {
     "data": {
      "image/png": "[encoded data removed]",
      "text/plain": [
       "<matplotlib.figure.Figure at 0x10ce92150>"
      ]
     },
     "metadata": {},
     "output_type": "display_data"
    }
   ],
   "source": [
    "subwav = reverse_notch_filter(test, freq=3000)\n",
    "subwav.plot()"
   ]
  },
  {
   "cell_type": "code",
   "execution_count": null,
   "metadata": {
    "collapsed": true
   },
   "outputs": [],
   "source": []
  }
 ],
 "metadata": {
  "kernelspec": {
   "display_name": "Python 2",
   "language": "python",
   "name": "python2"
  },
  "language_info": {
   "codemirror_mode": {
    "name": "ipython",
    "version": 2
   },
   "file_extension": ".py",
   "mimetype": "text/x-python",
   "name": "python",
   "nbconvert_exporter": "python",
   "pygments_lexer": "ipython2",
   "version": "2.7.10"
  }
 },
 "nbformat": 4,
 "nbformat_minor": 0
}
