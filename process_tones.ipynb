{
 "cells": [
  {
   "cell_type": "code",
   "execution_count": 4,
   "metadata": {
    "collapsed": true
   },
   "outputs": [],
   "source": [
    "import thinkdsp\n",
    "import numpy as np\n",
    "\n",
    "def detect_one_or_zero(segment, qfactor=.99, lowfreq=500, highfreq=1500):\n",
    "    if len(segment.ys) < 3:\n",
    "        print(\"too short\")\n",
    "        return\n",
    "    segment2 = segment\n",
    "    x = segment2.ys\n",
    "    y = [ 0 for i in xrange(len(segment2.ys))]\n",
    "    q = qfactor\n",
    "    wo = (lowfreq * np.pi * 2) / segment2.framerate\n",
    "\n",
    "    y[0] = x[0] + 2 * q - 2\n",
    "\n",
    "    y[1] = x[1] + 2 * q * np.cos(wo) * y[0] - 2 * np.cos(wo) * x[0]\n",
    "\n",
    "    for i in range(2, len(segment2.ys)):\n",
    "        y[i] = x[i] + 2*q*np.cos(wo) * y[i-1] - q*q*y[i - 2] - 2 * np.cos(wo) * x[i-1] + x[i - 2]\n",
    "    lowwave = thinkdsp.Wave(y, segment2.framerate)\n",
    "    \n",
    "    wo = (highfreq * np.pi * 2) / segment2.framerate\n",
    "    \n",
    "    y = [ 0 for i in xrange(len(segment2.ys))]\n",
    "    \n",
    "    y[0] = x[0] + 2 * q - 2\n",
    "\n",
    "    y[1] = x[1] + 2 * q * np.cos(wo) * y[0] - 2 * np.cos(wo) * x[0]\n",
    "\n",
    "    for i in range(2, len(segment2.ys)):\n",
    "        y[i] = x[i] + 2*q*np.cos(wo) * y[i-1] - q*q*y[i - 2] - 2 * np.cos(wo) * x[i-1] + x[i - 2]\n",
    "    highwave = thinkdsp.Wave(y, segment2.framerate)\n",
    "    \n",
    "    lowAverage = np.average(np.absolute(lowwave.ys))\n",
    "    highAverage = np.average(np.absolute(highwave.ys))\n",
    "    if lowAverage > highAverage and lowAverage > 1000: #tweak constant\n",
    "        return \"1\"\n",
    "    elif highAverage > lowAverage and highAverage > 1000: #tweak me\n",
    "        return \"0\"\n",
    "def find_start_and_end(xf, threshold = 2000): \n",
    "    import numpy as np    \n",
    "    start_idx = -1\n",
    " \n",
    "    for k in range(0, len(xf)):\n",
    "        if(np.abs(xf[k])) > threshold:\n",
    "            start_idx = k\n",
    "            break\n",
    "\n",
    "    if(start_idx  < 0):\n",
    "        print(\"Unable to detect start of transmission\")\n",
    "        return -1\n",
    "    \n",
    "    end_idx = -1\n",
    "    \n",
    "    for k in range(0, len(xf)):\n",
    "        if(np.abs(xf[len(xf)-k-1])) > threshold:\n",
    "            end_idx = len(xf)-k-1\n",
    "            break\n",
    "\n",
    "    if(end_idx < 0):\n",
    "        print(\"Unable to detect end of transmission\")\n",
    "        return -1\n",
    "\n",
    "    return start_idx, end_idx\n",
    "\n",
    "def process_wav(filename, symbolLength=.5):\n",
    "    wave = thinkdsp.read_wave(filename)\n",
    "    (start, end) = find_start_and_end(wave.ys)\n",
    "    subwave = thinkdsp.Wave(wave.ys[start:end], wave.framerate)\n",
    "    for i in range(0, int(round(subwave.duration / symbolLength))):\n",
    "        print(detect_one_or_zero(subwave.segment(i * symbolLength, symbolLength)))"
   ]
  },
  {
   "cell_type": "code",
   "execution_count": 5,
   "metadata": {
    "collapsed": false
   },
   "outputs": [
    {
     "ename": "NameError",
     "evalue": "global name 'windowSize' is not defined",
     "output_type": "error",
     "traceback": [
      "\u001b[0;31m---------------------------------------------------------------------------\u001b[0m",
      "\u001b[0;31mNameError\u001b[0m                                 Traceback (most recent call last)",
      "\u001b[0;32m<ipython-input-5-a147d3eccf60>\u001b[0m in \u001b[0;36m<module>\u001b[0;34m()\u001b[0m\n\u001b[0;32m----> 1\u001b[0;31m \u001b[0mprocess_wav\u001b[0m\u001b[0;34m(\u001b[0m\u001b[0;34m\"receivedfile.wav\"\u001b[0m\u001b[0;34m)\u001b[0m\u001b[0;34m\u001b[0m\u001b[0m\n\u001b[0m",
      "\u001b[0;32m<ipython-input-4-a1fae75b0d30>\u001b[0m in \u001b[0;36mprocess_wav\u001b[0;34m(filename, symbolLength)\u001b[0m\n\u001b[1;32m     68\u001b[0m     \u001b[0;34m(\u001b[0m\u001b[0mstart\u001b[0m\u001b[0;34m,\u001b[0m \u001b[0mend\u001b[0m\u001b[0;34m)\u001b[0m \u001b[0;34m=\u001b[0m \u001b[0mfind_start_and_end\u001b[0m\u001b[0;34m(\u001b[0m\u001b[0mwave\u001b[0m\u001b[0;34m.\u001b[0m\u001b[0mys\u001b[0m\u001b[0;34m)\u001b[0m\u001b[0;34m\u001b[0m\u001b[0m\n\u001b[1;32m     69\u001b[0m     \u001b[0msubwave\u001b[0m \u001b[0;34m=\u001b[0m \u001b[0mthinkdsp\u001b[0m\u001b[0;34m.\u001b[0m\u001b[0mWave\u001b[0m\u001b[0;34m(\u001b[0m\u001b[0mwave\u001b[0m\u001b[0;34m.\u001b[0m\u001b[0mys\u001b[0m\u001b[0;34m[\u001b[0m\u001b[0mstart\u001b[0m\u001b[0;34m:\u001b[0m\u001b[0mend\u001b[0m\u001b[0;34m]\u001b[0m\u001b[0;34m,\u001b[0m \u001b[0mwave\u001b[0m\u001b[0;34m.\u001b[0m\u001b[0mframerate\u001b[0m\u001b[0;34m)\u001b[0m\u001b[0;34m\u001b[0m\u001b[0m\n\u001b[0;32m---> 70\u001b[0;31m     \u001b[0;32mfor\u001b[0m \u001b[0mi\u001b[0m \u001b[0;32min\u001b[0m \u001b[0mrange\u001b[0m\u001b[0;34m(\u001b[0m\u001b[0;36m0\u001b[0m\u001b[0;34m,\u001b[0m \u001b[0mint\u001b[0m\u001b[0;34m(\u001b[0m\u001b[0mround\u001b[0m\u001b[0;34m(\u001b[0m\u001b[0mwave\u001b[0m\u001b[0;34m.\u001b[0m\u001b[0mduration\u001b[0m \u001b[0;34m/\u001b[0m \u001b[0mwindowSize\u001b[0m\u001b[0;34m)\u001b[0m\u001b[0;34m)\u001b[0m\u001b[0;34m)\u001b[0m\u001b[0;34m:\u001b[0m\u001b[0;34m\u001b[0m\u001b[0m\n\u001b[0m\u001b[1;32m     71\u001b[0m         \u001b[0;32mprint\u001b[0m\u001b[0;34m(\u001b[0m\u001b[0mdetect_one_or_zero\u001b[0m\u001b[0;34m(\u001b[0m\u001b[0mwave\u001b[0m\u001b[0;34m.\u001b[0m\u001b[0msegment\u001b[0m\u001b[0;34m(\u001b[0m\u001b[0mi\u001b[0m \u001b[0;34m*\u001b[0m \u001b[0mwindowSize\u001b[0m\u001b[0;34m,\u001b[0m \u001b[0mwindowSize\u001b[0m\u001b[0;34m)\u001b[0m\u001b[0;34m)\u001b[0m\u001b[0;34m)\u001b[0m\u001b[0;34m\u001b[0m\u001b[0m\n",
      "\u001b[0;31mNameError\u001b[0m: global name 'windowSize' is not defined"
     ]
    }
   ],
   "source": [
    "process_wav(\"receivedfile.wav\")"
   ]
  }
 ],
 "metadata": {
  "kernelspec": {
   "display_name": "Python 2",
   "language": "python",
   "name": "python2"
  },
  "language_info": {
   "codemirror_mode": {
    "name": "ipython",
    "version": 2
   },
   "file_extension": ".py",
   "mimetype": "text/x-python",
   "name": "python",
   "nbconvert_exporter": "python",
   "pygments_lexer": "ipython2",
   "version": "2.7.10"
  }
 },
 "nbformat": 4,
 "nbformat_minor": 0
}
