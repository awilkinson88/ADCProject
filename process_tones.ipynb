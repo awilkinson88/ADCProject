{
 "cells": [
  {
   "cell_type": "code",
   "execution_count": 105,
   "metadata": {
    "collapsed": true
   },
   "outputs": [],
   "source": [
    "import thinkdsp\n",
    "import numpy as np\n",
    "import thinkplot\n",
    "import scipy.signal\n",
    "\n",
    "%matplotlib inline\n",
    "\n",
    "def reverse_notch_filter(segment2, qfactor=.99, freq=3400):\n",
    "    x = segment2.ys\n",
    "    y = [ 0 for i in xrange(len(segment2.ys))]\n",
    "    q = .70\n",
    "    p = .90\n",
    "    wo = (freq * np.pi * 2) / segment2.framerate\n",
    "\n",
    "    y[0] = x[0] + 2 * q - 2 * p\n",
    "\n",
    "    y[1] = x[1] + 2 * p * np.cos(wo) * y[0] - 2 * q * np.cos(wo) * x[0]\n",
    "\n",
    "    for i in range(2, len(segment2.ys)):\n",
    "        y[i] = x[i] + 2* p * np.cos(wo) * y[i-1] - p * p * y[i - 2] - 2 * q * np.cos(wo) * x[i-1] + q*q*x[i - 2]\n",
    "        #print(y[i])\n",
    "    return thinkdsp.Wave(y, segment2.framerate)\n",
    "\n",
    "\n",
    "\n",
    "# def reverse_notch_filter(segment, q=.9, freq=3400):\n",
    "#     w = (freq * np.pi * 2) / segment.framerate\n",
    "#     A = [1, -2.0*q*np.cos(w), 1]\n",
    "#     B = [1, -2.0*q*np.cos(w), 1]\n",
    "#     filt = scipy.signal.lfilter(B,A,segment.ys)\n",
    "#     return filt\n",
    "    \n",
    "\n",
    "def detect_one_or_zero(segment, qfactor=.99, lowfreq=2300, highfreq=3400):\n",
    "    if len(segment.ys) < 3:\n",
    "        print(\"too short\")\n",
    "        return\n",
    "    lowwave = reverse_notch_filter(segment, qfactor, lowfreq)\n",
    "\n",
    "    highwave = reverse_notch_filter(segment, qfactor, highfreq)\n",
    "    \n",
    "    lowAverage = np.average(np.absolute(lowwave.ys))\n",
    "    highAverage = np.average(np.absolute(highwave.ys))\n",
    "    if lowAverage > highAverage and lowAverage > 100: #tweak constant\n",
    "        return \"1\"\n",
    "    elif highAverage > lowAverage and highAverage > 100: #tweak me\n",
    "        return \"0\"\n",
    "def find_start_and_end(xf, threshold = 2000): \n",
    "    import numpy as np    \n",
    "    start_idx = -1\n",
    " \n",
    "    for k in range(0, len(xf)):\n",
    "        if(np.abs(xf[k])) > threshold:\n",
    "            start_idx = k\n",
    "            break\n",
    "\n",
    "    if(start_idx  < 0):\n",
    "        print(\"Unable to detect start of transmission\")\n",
    "        return -1\n",
    "    \n",
    "    end_idx = -1\n",
    "    \n",
    "    for k in range(0, len(xf)):\n",
    "        if(np.abs(xf[len(xf)-k-1])) > threshold:\n",
    "            end_idx = len(xf)-k-1\n",
    "            break\n",
    "\n",
    "    if(end_idx < 0):\n",
    "        print(\"Unable to detect end of transmission\")\n",
    "        return -1\n",
    "\n",
    "    return start_idx, end_idx\n",
    "\n",
    "def process_wav(filename, symbolLength=.5):\n",
    "    wave = thinkdsp.read_wave(filename)\n",
    "     #(start, end) = find_start_and_end(wave.ys, 150)\n",
    "    subwave = thinkdsp.Wave(wave.ys, wave.framerate)\n",
    "    for i in range(0, int(round(subwave.duration / symbolLength))):\n",
    "        print(detect_one_or_zero(subwave))"
   ]
  },
  {
   "cell_type": "code",
   "execution_count": 106,
   "metadata": {
    "collapsed": false
   },
   "outputs": [],
   "source": [
    "#wav = reverse_notch_filter(test, qfactor=.99, freq=3400)\n",
    "#wav.plot()"
   ]
  },
  {
   "cell_type": "code",
   "execution_count": null,
   "metadata": {
    "collapsed": false,
    "scrolled": true
   },
   "outputs": [
    {
     "name": "stdout",
     "output_type": "stream",
     "text": [
      "0\n",
      "0\n",
      "0\n",
      "0\n",
      "0"
     ]
    }
   ],
   "source": [
    "test = thinkdsp.read_wave(\"ToneTest.wav\")\n",
    "process_wav(\"ToneTest.wav\")\n"
   ]
  },
  {
   "cell_type": "code",
   "execution_count": 104,
   "metadata": {
    "collapsed": false
   },
   "outputs": [
    {
     "data": {
      "image/png": "[encoded data removed]",
      "text/plain": [
       "<matplotlib.figure.Figure at 0x7faceca3aed0>"
      ]
     },
     "metadata": {},
     "output_type": "display_data"
    }
   ],
   "source": [
    "wav.plot()"
   ]
  },
  {
   "cell_type": "code",
   "execution_count": null,
   "metadata": {
    "collapsed": true
   },
   "outputs": [],
   "source": []
  }
 ],
 "metadata": {
  "kernelspec": {
   "display_name": "Python 2",
   "language": "python",
   "name": "python2"
  },
  "language_info": {
   "codemirror_mode": {
    "name": "ipython",
    "version": 2
   },
   "file_extension": ".py",
   "mimetype": "text/x-python",
   "name": "python",
   "nbconvert_exporter": "python",
   "pygments_lexer": "ipython2",
   "version": "2.7.11"
  }
 },
 "nbformat": 4,
 "nbformat_minor": 0
}
